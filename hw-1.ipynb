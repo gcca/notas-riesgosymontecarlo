{
  "cells": [
    {
      "cell_type": "markdown",
      "metadata": {
        "id": "Ce72H7G6x0Bn"
      },
      "source": [
        "# Monte Carlo: Caso 1"
      ]
    },
    {
      "cell_type": "code",
      "execution_count": 1,
      "metadata": {
        "id": "-4oos6Sjynsr"
      },
      "outputs": [],
      "source": [
        "import numpy as np"
      ]
    },
    {
      "cell_type": "markdown",
      "metadata": {
        "id": "CSLp7M85yD0g"
      },
      "source": [
        "## Parte 1: Saldo en caja\n",
        "\n",
        "La empresa industrial _Inversiones Super_ está efectuando su presupuesto de caja para el siguiente mes, para ello considera los siguientes supuestos:\n",
        "\n",
        "* Producir 5000 unidades de su producto estrella.\n",
        "* Cada producto será vendido a un precio de 60 USD.\n",
        "* El costo variable unitario será de 25 USD.\n",
        "* El total de costos fijos, que comprende gastos de administración alquileres entre otros, será de 150 mil USD.\n",
        "* Históricamente siempre se ha registrado producción defectuosa.\n",
        "   * La producción que se remata tiene un precio de 5 USD cada una.\n",
        "   * Considerar como porcentaje de producción defectuosa un 6.\n",
        "* Considerar además que hay demanda suficiente y que la empresa puede vender todo lo producido.\n",
        "\n",
        "Se solicita estimar el saldo de caja para dicho mes."
      ]
    },
    {
      "cell_type": "markdown",
      "metadata": {
        "id": "rpRFdW1D0pC3"
      },
      "source": [
        "### Ingresos por venta\n"
      ]
    },
    {
      "cell_type": "code",
      "execution_count": 2,
      "metadata": {
        "colab": {
          "base_uri": "https://localhost:8080/"
        },
        "id": "OMPnJriA1vWp",
        "outputId": "bd8903d8-c7fc-4a9c-f995-5f6dcea080f6"
      },
      "outputs": [
        {
          "data": {
            "text/plain": [
              "('Unidades vendibles = 4700.0', 'Ingresos = 282000')"
            ]
          },
          "execution_count": 2,
          "metadata": {},
          "output_type": "execute_result"
        }
      ],
      "source": [
        "f'Unidades vendibles = {5000 * (1 - .06)}', f'Ingresos = {4700 * 60}'"
      ]
    },
    {
      "cell_type": "markdown",
      "metadata": {
        "id": "HNLyNrVV2aw4"
      },
      "source": [
        "\n",
        "__Unidades vendibles:__ $5000\\times(1 - 0.06)=4700\\text{ unidades}$\n",
        "\n",
        "__Ingresos:__ $4700\\times60\\text{ USD}=282\\ 000\\text{ USD}$"
      ]
    },
    {
      "cell_type": "markdown",
      "metadata": {
        "id": "tBPxGXLB4oOx"
      },
      "source": [
        "### Ingresos por remate"
      ]
    },
    {
      "cell_type": "code",
      "execution_count": 3,
      "metadata": {
        "colab": {
          "base_uri": "https://localhost:8080/"
        },
        "id": "b1I5z1bO4sLq",
        "outputId": "68ff966f-f1fb-4dbd-81e9-90f7d6d9ab0c"
      },
      "outputs": [
        {
          "data": {
            "text/plain": [
              "('Unidades defectuosas = 300.0', 'Ingresos = 1500')"
            ]
          },
          "execution_count": 3,
          "metadata": {},
          "output_type": "execute_result"
        }
      ],
      "source": [
        "f'Unidades defectuosas = {5000 * .06}', f'Ingresos = {300 * 5}'"
      ]
    },
    {
      "cell_type": "markdown",
      "metadata": {
        "id": "iOXg4N2y45Xp"
      },
      "source": [
        "__Unidades defectuosas:__ $5000\\times0.06=300\\text{ unidades}$\n",
        "\n",
        "__Ingresos (remate):__ $300\\times5\\text{ USD}=1\\ 500\\text{ USD}$"
      ]
    },
    {
      "cell_type": "markdown",
      "metadata": {
        "id": "f9oor6qd5rxK"
      },
      "source": [
        "### Costos totales"
      ]
    },
    {
      "cell_type": "code",
      "execution_count": 4,
      "metadata": {
        "colab": {
          "base_uri": "https://localhost:8080/"
        },
        "id": "czJQIYww5uTd",
        "outputId": "bd0d1b37-dc18-41f6-e3c4-f5d28657e066"
      },
      "outputs": [
        {
          "data": {
            "text/plain": [
              "('Costo variable total = 125000',\n",
              " 'Costos fijos = 150000',\n",
              " 'Costos totales = 275000')"
            ]
          },
          "execution_count": 4,
          "metadata": {},
          "output_type": "execute_result"
        }
      ],
      "source": [
        "f'Costo variable total = {5000 * 25}', f'Costos fijos = {150_000}', f'Costos totales = {(5000 * 25) + 150000}'"
      ]
    },
    {
      "cell_type": "markdown",
      "metadata": {
        "id": "8QNFhL_J6ZPY"
      },
      "source": [
        "__Costo variable total:__ $5000\\times25\\text{ USD}=125\\ 000\\text{ USD}$\n",
        "\n",
        "__Costos fijos:__ $150\\ 000\\text{ USD}$\n",
        "\n",
        "__Costos totales:__ $125\\ 000\\text{ USD}+150\\ 000\\text{ USD}=275\\ 000\\text{ USD}$"
      ]
    },
    {
      "cell_type": "markdown",
      "metadata": {
        "id": "7jm5k-oX7DE0"
      },
      "source": [
        "### Saldo de caja"
      ]
    },
    {
      "cell_type": "code",
      "execution_count": 5,
      "metadata": {
        "colab": {
          "base_uri": "https://localhost:8080/"
        },
        "id": "S0xyUYva9KSd",
        "outputId": "91729658-d954-4775-a3de-499b14bb82e1"
      },
      "outputs": [
        {
          "data": {
            "text/plain": [
              "8500"
            ]
          },
          "execution_count": 5,
          "metadata": {},
          "output_type": "execute_result"
        }
      ],
      "source": [
        "282_000 + 1_500 - 275_000"
      ]
    },
    {
      "cell_type": "markdown",
      "metadata": {
        "id": "ArYsKIPL7VBO"
      },
      "source": [
        "$\\begin{array}{lllllll}\n",
        "\\text{Saldo de caja}&=&\\text{Ingresos normales}&+&\\text{Ingresos por remate}&-&\\text{Costos totales}\\\\\n",
        "&=&282\\ 000&+&1\\ 500&-&275\\ 000\\\\\n",
        "&=&8\\ 500\\text{ USD}\n",
        "\\end{array}$"
      ]
    },
    {
      "cell_type": "markdown",
      "metadata": {
        "id": "yRY8Dw6b_E_n"
      },
      "source": [
        "### Resumen"
      ]
    },
    {
      "cell_type": "code",
      "execution_count": 6,
      "metadata": {
        "colab": {
          "base_uri": "https://localhost:8080/"
        },
        "id": "ZenA3Twt_G6z",
        "outputId": "558723d3-df2c-445b-cda7-353958613fdf"
      },
      "outputs": [
        {
          "data": {
            "text/plain": [
              "8500.0"
            ]
          },
          "execution_count": 6,
          "metadata": {},
          "output_type": "execute_result"
        }
      ],
      "source": [
        "produccion_total = 5000\n",
        "precio_venta = 60\n",
        "costo_variable = 25\n",
        "costos_fijos = 150000\n",
        "porcentaje_defectuoso = 0.06\n",
        "precio_remate = 5\n",
        "\n",
        "def calcular_saldo(produccion, precio_venta, costo_variable, costos_fijos, porcentaje_defectuoso, precio_remate):\n",
        "    unidades_vendibles = produccion * (1 - porcentaje_defectuoso)\n",
        "    ingresos_normales = unidades_vendibles * precio_venta\n",
        "    unidades_defectuosas = produccion * porcentaje_defectuoso\n",
        "    ingresos_remate = unidades_defectuosas * precio_remate\n",
        "    costos_totales = (produccion * costo_variable) + costos_fijos\n",
        "    saldo_caja = ingresos_normales + ingresos_remate - costos_totales\n",
        "    return saldo_caja\n",
        "\n",
        "calcular_saldo(produccion_total, precio_venta, costo_variable, costos_fijos, porcentaje_defectuoso, precio_remate)"
      ]
    },
    {
      "cell_type": "markdown",
      "metadata": {
        "id": "RWZbtDbM-u-V"
      },
      "source": [
        "## Parte 2: Probabilidad que el saldo en caja sea menor que cero"
      ]
    },
    {
      "cell_type": "markdown",
      "metadata": {},
      "source": [
        "Un experto ha indicado que algunos supuestos podrían no cumplirse, por lo que sugiere\n",
        "considerar lo siguiente:\n",
        "\n",
        "* Que el costo variable unitario se comporta bajo una distribución uniforme, con un máximo US$ 27 y un mínimo US$ 24.\n",
        "* Según los registros de producción se ha observado que el porcentaje de producción defectuosa como mínimo ha sido 0%, como máximo 8% siendo lo más probable 6%; por lo que se considera apropiado considerar una distribución triangular.\n",
        "\n",
        "La empresa no tiene previsto implementar ninguna alternativa para corregir el grave problema de tener producción defectuosa.\n",
        "\n",
        "Se solicita que evalúe la probabilidad de que el saldo de caja sea menor a cero."
      ]
    },
    {
      "cell_type": "code",
      "execution_count": 7,
      "metadata": {
        "id": "NIY7vOEkLeKZ"
      },
      "outputs": [],
      "source": [
        "def simular(num_simulaciones):\n",
        "  resultados = []\n",
        "  for _ in range(num_simulaciones):\n",
        "      costo_variable = np.random.uniform(24, 27)\n",
        "\n",
        "      porcentaje_defectuoso = np.random.triangular(0, .06, .08)\n",
        "\n",
        "      saldo = calcular_saldo(produccion_total, precio_venta, costo_variable, costos_fijos, porcentaje_defectuoso, precio_remate)\n",
        "\n",
        "      resultados.append(saldo)\n",
        "  return resultados"
      ]
    },
    {
      "cell_type": "code",
      "execution_count": 8,
      "metadata": {
        "colab": {
          "base_uri": "https://localhost:8080/"
        },
        "id": "trHJZ_2v9OOU",
        "outputId": "ef6a244c-d943-4abb-e9da-094361733436"
      },
      "outputs": [
        {
          "data": {
            "text/plain": [
              "[9173.109084407566,\n",
              " 15776.234875568014,\n",
              " 12278.093575483712,\n",
              " 3185.23319546273,\n",
              " 15468.61757930182,\n",
              " 16779.380850440124,\n",
              " 8306.02363579988,\n",
              " 6979.880705640244,\n",
              " -2655.713537547912,\n",
              " 19079.040265584306,\n",
              " 2280.4723137679975,\n",
              " 14297.112984171545,\n",
              " 11215.265318011981,\n",
              " 10911.084964887821,\n",
              " 13217.608008348849,\n",
              " -770.7626736643142,\n",
              " 13122.398927008326,\n",
              " 16735.526155488333,\n",
              " 5280.088998394378,\n",
              " 5894.120559557283]"
            ]
          },
          "execution_count": 8,
          "metadata": {},
          "output_type": "execute_result"
        }
      ],
      "source": [
        "produccion_total = 5000\n",
        "precio_venta = 60\n",
        "costos_fijos = 150000\n",
        "precio_remate = 5\n",
        "\n",
        "num_simulaciones = 50_000\n",
        "\n",
        "costos_variables = np.random.uniform(24, 27, num_simulaciones)\n",
        "porcentajes_defectuosos = np.random.triangular(0, .06, .08, num_simulaciones)\n",
        "\n",
        "saldos = calcular_saldo(produccion_total, precio_venta, costos_variables, costos_fijos, porcentajes_defectuosos, precio_remate)\n",
        "\n",
        "list(map(float, saldos[:20]))"
      ]
    },
    {
      "cell_type": "code",
      "execution_count": 9,
      "metadata": {
        "colab": {
          "base_uri": "https://localhost:8080/"
        },
        "id": "PNapK7THGXWy",
        "outputId": "3a31b7a1-3779-4346-8445-8caf5dadf06b"
      },
      "outputs": [
        {
          "data": {
            "text/plain": [
              "np.float64(0.06158)"
            ]
          },
          "execution_count": 9,
          "metadata": {},
          "output_type": "execute_result"
        }
      ],
      "source": [
        "np.sum(saldos < 0) / num_simulaciones"
      ]
    },
    {
      "cell_type": "markdown",
      "metadata": {},
      "source": [
        "## Parte 3"
      ]
    },
    {
      "cell_type": "markdown",
      "metadata": {},
      "source": [
        "Los medios de comunicación han informado que la empresa _Inversiones RecontraArchiSuper_, un importante competidor, ingresará al mercado. Esto tendrá un impacto en el volumen de ventas.\n",
        "\n",
        "La empresa está evaluando implementar alguna estrategia para mantener su participación en el mercado, por lo que está considerando dos alternativas.\n",
        "\n",
        "\n",
        "* Evalúe para cada alternativa la probabilidad de que el saldo de caja sea menor a cero.\n",
        "* Recomiende cual alternativa implementar."
      ]
    },
    {
      "cell_type": "markdown",
      "metadata": {
        "id": "7HYAgX_CGIkM"
      },
      "source": [
        "## Parte 3.A"
      ]
    },
    {
      "cell_type": "markdown",
      "metadata": {},
      "source": [
        "Alternativa 1:\n",
        "\n",
        "* Reducir el precio de venta a US$ 58.\n",
        "* Reducir los costos fijos a US$ 144 mil.\n",
        "* Se mantiene el objetivo de producir 5000 unidades de su producto Estrella.\n",
        "* Un experto señala que la demanda de su producto Estrella podría estar entre 4,750 unidades y 5,250 unidades. Por lo que sugiere considerar una distribución uniforme.\n",
        "* Esta alternativa no contempla eliminar el problema de la producción defectuosa, por lo que se deben considerar la distribución y los porcentajes previamente señalados.\n",
        "* Lo que se advierte es que podría ocurrir alguno de estos casos:\n",
        "   * No exista suficiente producción sin defectos para vender si la demanda es mayor, con lo cual solo se vende lo producido.\n",
        "   * Exista una producción sin defectos superior a la demanda, en este caso se vende el volumen demandado y el excedente de producción sin defectos se vende a un precio oferta equivalente al 50% del precio normal.\n",
        "* Considerar también el comportamiento uniforme previamente señalado para el costo variable unitario."
      ]
    },
    {
      "cell_type": "code",
      "execution_count": 10,
      "metadata": {
        "colab": {
          "base_uri": "https://localhost:8080/"
        },
        "id": "ca81dqf7GLQ9",
        "outputId": "701198d1-de3c-4c59-b7d6-efcb14e45d2e"
      },
      "outputs": [
        {
          "data": {
            "text/plain": [
              "np.float64(0.1787216)"
            ]
          },
          "execution_count": 10,
          "metadata": {},
          "output_type": "execute_result"
        }
      ],
      "source": [
        "produccion_total = 5000\n",
        "precio_venta = 58\n",
        "costos_fijos = 144000\n",
        "precio_remate = 5\n",
        "\n",
        "num_simulaciones = 10_000_000\n",
        "\n",
        "costos_variables = np.random.uniform(24, 27, num_simulaciones)\n",
        "porcentajes_defectuosos = np.random.triangular(0, .06, .08, num_simulaciones)\n",
        "demanda = np.random.uniform(4750, 5250, num_simulaciones)\n",
        "\n",
        "def calcular_saldo(produccion, precio_venta, costo_variable, costos_fijos, porcentaje_defectuoso, precio_remate, demanda):\n",
        "    unidades_vendibles = produccion * (1 - porcentaje_defectuoso)\n",
        "\n",
        "    excedente = unidades_vendibles - demanda\n",
        "    excedente[excedente < 0] = 0\n",
        "\n",
        "    ingresos_normales = unidades_vendibles * precio_venta + excedente * precio_venta * 0.5\n",
        "\n",
        "    unidades_defectuosas = produccion * porcentaje_defectuoso\n",
        "    ingresos_remate = unidades_defectuosas * precio_remate\n",
        "    costos_totales = (produccion * costo_variable) + costos_fijos\n",
        "    saldo_caja = ingresos_normales + ingresos_remate - costos_totales\n",
        "\n",
        "    return saldo_caja\n",
        "\n",
        "saldos = calcular_saldo(produccion_total, precio_venta, costos_variables, costos_fijos, porcentajes_defectuosos, precio_remate, demanda)\n",
        "\n",
        "np.sum(saldos < 0) / num_simulaciones"
      ]
    },
    {
      "cell_type": "markdown",
      "metadata": {
        "id": "ujVtUoISIpCt"
      },
      "source": [
        "## Parte 3.B"
      ]
    },
    {
      "cell_type": "markdown",
      "metadata": {},
      "source": [
        "Alternativa 2:\n",
        "\n",
        "* Reducir el precio de venta a US$ 56\n",
        "* Bajo esta alternativa el monto de costos fijos se mantendría en US$ 150 mil.\n",
        "* Se mantiene el objetivo de producir 5000 unidades de su producto Estrella.\n",
        "* Eliminar el problema de producción defectuosa.\n",
        "* Un experto señala que bajo esta alternativa la demanda del producto Estrella podría estar entre 4,750 unidades y 5,500 unidades. Considere una distribución uniforme.\n",
        "* Tenga en cuenta que si la demanda es superior a la producción solo se vende lo producido y si la demanda es inferior a la producción se vende lo demandado al precio normal y el excedente de producción al precio oferta equivalente al 50% del precio normal.\n",
        "* Considerar también el comportamiento uniforme previamente señalado para el costo variable unitario, solo que, como consecuencia de eliminar el problema de producción defectuosa, ahora el máximo es US$ 26 y el mínimo es US$ 24."
      ]
    },
    {
      "cell_type": "code",
      "execution_count": 11,
      "metadata": {
        "colab": {
          "base_uri": "https://localhost:8080/"
        },
        "id": "uCDhJKxTIsD4",
        "outputId": "6b1c2ceb-f3d7-426c-f56b-8798bc4d5572"
      },
      "outputs": [
        {
          "data": {
            "text/plain": [
              "np.float64(0.2142952)"
            ]
          },
          "execution_count": 11,
          "metadata": {},
          "output_type": "execute_result"
        }
      ],
      "source": [
        "produccion_total = 5000\n",
        "precio_venta = 56\n",
        "costos_fijos = 150000\n",
        "precio_remate = 5\n",
        "\n",
        "num_simulaciones = 10_000_000\n",
        "\n",
        "costos_variables = np.random.uniform(24, 26, num_simulaciones)\n",
        "demanda = np.random.uniform(4750, 5500, num_simulaciones)\n",
        "\n",
        "def calcular_saldo(produccion, precio_venta, costo_variable, costos_fijos, precio_remate, demanda):\n",
        "    unidades_vendibles = np.minimum(np.full(num_simulaciones, produccion), demanda)\n",
        "\n",
        "    excedente = unidades_vendibles - demanda\n",
        "    excedente[excedente < 0] = 0\n",
        "\n",
        "    ingresos_normales = unidades_vendibles * precio_venta + excedente * precio_venta * 0.5\n",
        "\n",
        "    costos_totales = (produccion * costo_variable) + costos_fijos\n",
        "    saldo_caja = ingresos_normales - costos_totales\n",
        "\n",
        "    return saldo_caja\n",
        "\n",
        "saldos = calcular_saldo(produccion_total, precio_venta, costos_variables, costos_fijos, precio_remate, demanda)\n",
        "\n",
        "np.sum(saldos < 0) / num_simulaciones"
      ]
    }
  ],
  "metadata": {
    "colab": {
      "provenance": []
    },
    "kernelspec": {
      "display_name": "Python 3",
      "name": "python3"
    },
    "language_info": {
      "codemirror_mode": {
        "name": "ipython",
        "version": 3
      },
      "file_extension": ".py",
      "mimetype": "text/x-python",
      "name": "python",
      "nbconvert_exporter": "python",
      "pygments_lexer": "ipython3",
      "version": "3.12.1"
    }
  },
  "nbformat": 4,
  "nbformat_minor": 0
}

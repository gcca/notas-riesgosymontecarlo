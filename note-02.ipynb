{
 "cells": [
  {
   "cell_type": "markdown",
   "metadata": {},
   "source": [
    "# Note 02: TIR y VPN"
   ]
  },
  {
   "cell_type": "markdown",
   "metadata": {},
   "source": [
    "Inversión igual a 480, el flujo 1 es 125 y la tasa de crecimiento es 10%. Son 5 periodos de flujos y el tir final es 16.5% aprox."
   ]
  },
  {
   "cell_type": "markdown",
   "metadata": {},
   "source": [
    "1. Inversión Inicial (CF0):\n",
    "   * La inversión inicial es de 480.\n",
    "2. Flujos de Caja (CF1, CF2, ..., CF5):\n",
    "   * El primer flujo de caja (CF1) es 125.\n",
    "   * La tasa de crecimiento es del 10%, por lo que cada flujo de caja subsecuente aumenta en un 10% respecto al anterior.\n",
    "\n",
    "Los flujos de caja serían:\n",
    "\n",
    "* CF1 = 125\n",
    "* CF2 = 125 * (1 + 0.10) = 125 * 1.10 = 137.5\n",
    "* CF3 = 137.5 * (1 + 0.10) = 137.5 * 1.10 = 151.25\n",
    "* CF4 = 151.25 * (1 + 0.10) = 151.25 * 1.10 = 166.375\n",
    "* CF5 = 166.375 * (1 + 0.10) = 166.375 * 1.10 = 183.0125\n",
    "\n",
    "3. Tasa Interna de Retorno (TIR):\n",
    "* La TIR es la tasa de descuento que iguala el valor presente neto (VPN) de los flujos de caja a cero.\n",
    "* En este caso, la TIR es aproximadamente 16.5%."
   ]
  },
  {
   "cell_type": "markdown",
   "metadata": {},
   "source": [
    "## Verificar la TIR"
   ]
  },
  {
   "cell_type": "markdown",
   "metadata": {},
   "source": [
    "La fórmula para el VPN es\n",
    "\n",
    "$$VPN=\\sum^n_{t=1}\\frac{CF_t}{(1+r)^t} - CF0$$\n",
    "\n",
    "donde:\n",
    "\n",
    "* $n$ es el número de periodos (5 en este caso).\n",
    "* $CF_t$​ es el flujo de caja en el periodo $t$. \n",
    "* $r$ es la tasa de descuento (TIR)."
   ]
  },
  {
   "cell_type": "markdown",
   "metadata": {},
   "source": [
    "Entonces, calculamos el VPN con una TIR de 16.5%:\n",
    "\n",
    "$$VPN=\\frac{125}{(1+0.165)^1}+\\frac{137.5}{(1+0.165)^2}+\\frac{151.25}{(1+0.165)^3}+\\frac{166.375}{(1+0.165)^4}+\\frac{183.0125}{(1+0.165)^5}-480$$\n",
    "\n",
    "Calculamos cada término:\n",
    "\n",
    "$$\\frac{125}{1+0.165}\\approx107.29\\quad\\frac{137.5}{(1+0.165)^2}\\approx101.18\\quad\\frac{151.25}{(1+0.165)^3}\\approx95.5\\quad\\frac{166.375}{(1+0.165)^4}\\approx90.12\\quad\\frac{183.0125}{(1+0.165)^5}\\approx85.01$$\n",
    "\n",
    "Sumamos estos valores y restamos la inversión inicial:\n",
    "\n",
    "$$107.29+101.18+95.5+90.12+85.01−480\\approx−0.9$$\n",
    "\n",
    "El VPN es aproximadamente cero, lo cual confirma que la TIR de 16.5% es correcta.\n",
    "\n",
    "En resumen, con una inversión inicial de 480 y flujos de caja crecientes a una tasa del 10% durante 5 periodos, se obtiene una TIR aproximada de 16.5%. Esto significa que esta tasa de retorno es la que iguala el valor presente de los flujos de caja futuros a la inversión inicial, haciendo que el VPN sea cero."
   ]
  },
  {
   "cell_type": "markdown",
   "metadata": {},
   "source": [
    "## Calcular la TIR"
   ]
  },
  {
   "cell_type": "markdown",
   "metadata": {},
   "source": [
    "Para calcular la Tasa Interna de Retorno (TIR), se debe encontrar la tasa de descuento que hace que el Valor Presente Neto (VPN) de los flujos de caja futuros sea igual a cero. Esto generalmente se hace iterativamente, ya que no hay una fórmula algebraica directa para la TIR."
   ]
  },
  {
   "cell_type": "markdown",
   "metadata": {},
   "source": [
    "1. **Fórmula del Valor Presente Neto (VPN):**\n",
    "\n",
    "$$VPN=\\sum^n_{t=1}\\frac{CF_t}{(1+r)^t}-CF0$$\n",
    "\n",
    "donde:\n",
    "\n",
    "* $CF_t$​ es el flujo de caja en el periodo $t$.\n",
    "* $r$ es la tasa de descuento (TIR que buscamos).\n",
    "* $CF0$ es la inversión inicial (flujo de caja negativo en $t=0$).\n",
    "\n",
    "2. Método de Prueba y Error:\n",
    "   * Elige una tasa de descuento inicial y calcula el VPN.\n",
    "   * Ajusta la tasa de descuento hacia arriba o hacia abajo según si el VPN es positivo o negativo.\n",
    "   * Repite este proceso hasta que el VPN se acerque a cero."
   ]
  },
  {
   "cell_type": "markdown",
   "metadata": {},
   "source": [
    "### Ejemplo\n",
    "\n",
    "Supongamos que tienes los siguientes flujos de caja:\n",
    "\n",
    "* Inversión inicial (CF0): -480\n",
    "* Flujos de caja (CF1 a CF5): 125, 137.5, 151.25, 166.375, 183.0125\n",
    "\n",
    "Usando la interpolación lineal entre dos tasas.\n",
    "\n",
    "1. Elige dos tasas de descuento iniciales, por ejemplo, 10% y 20%.\n",
    "2. Calcula el VPN para ambas tasas.\n",
    "3. Interpola linealmente para encontrar una tasa que haga el VPN más cercano a cero.\n",
    "\n",
    "Ejemplo numérico simple usando las tasas del 10% y 20%:\n",
    "$$VPN_{10\\%}=\\sum^5_{t=1}\\frac{CF_t}{(1+0.10)^t}-480$$\n",
    "$$VPN_{20\\%}=\\sum^5_{t=1}\\frac{CF_t}{(1+0.20)^t}-480$$\n",
    "\n",
    "Calculamos estos valores y luego interpolamos:\n",
    "\n",
    "$$TIR\\approx r_1+\\left(\\frac{VPN_{r_1}}{VPN_{r_1}-VPN_{r_2}}\\right)(r_2-r_1)$$\n",
    "\n",
    "Donde:\n",
    "\n",
    "* $r_1$ y $r_2$ son las tasas iniciales (10% y 20%).\n",
    "* $VPN_{r_1}$ y $VPN_{r_2}$ son los VPNs calculados con esas tasas.\n",
    "\n",
    "Este método proporciona una aproximación y se puede iterar para refinar la tasa."
   ]
  },
  {
   "cell_type": "markdown",
   "metadata": {},
   "source": [
    "### Ejemplo"
   ]
  },
  {
   "cell_type": "code",
   "execution_count": 1,
   "metadata": {},
   "outputs": [
    {
     "name": "stdout",
     "output_type": "stream",
     "text": [
      "TIR = 16.49%\n"
     ]
    }
   ],
   "source": [
    "import numpy_financial as np\n",
    "\n",
    "cash_flows = [-480, 125, 137.5, 151.25, 166.375, 183.0125]\n",
    "tir = np.irr(cash_flows)\n",
    "\n",
    "print(f\"TIR = {tir * 100:.2f}%\")"
   ]
  },
  {
   "cell_type": "markdown",
   "metadata": {},
   "source": [
    "Dará una TIR del 16.5%, confirmando el cálculo anterior."
   ]
  }
 ],
 "metadata": {
  "kernelspec": {
   "display_name": ".venv",
   "language": "python",
   "name": "python3"
  },
  "language_info": {
   "codemirror_mode": {
    "name": "ipython",
    "version": 3
   },
   "file_extension": ".py",
   "mimetype": "text/x-python",
   "name": "python",
   "nbconvert_exporter": "python",
   "pygments_lexer": "ipython3",
   "version": "3.12.1"
  }
 },
 "nbformat": 4,
 "nbformat_minor": 2
}
